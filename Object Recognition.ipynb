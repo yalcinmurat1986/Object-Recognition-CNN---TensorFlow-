{
 "cells": [
  {
   "cell_type": "code",
   "execution_count": 6,
   "metadata": {},
   "outputs": [],
   "source": [
    "import tflearn\n",
    "import _pickle as pickle\n",
    "from tflearn.data_utils import shuffle, to_categorical\n",
    "from tflearn.layers.core import input_data, dropout, fully_connected\n",
    "from tflearn.layers.conv import conv_2d, max_pool_2d\n",
    "from tflearn.layers.estimator import regression\n",
    "from tflearn.data_preprocessing import ImagePreprocessing\n",
    "from tflearn.data_augmentation import ImageAugmentation\n",
    "import numpy as np"
   ]
  },
  {
   "cell_type": "code",
   "execution_count": 7,
   "metadata": {
    "collapsed": true
   },
   "outputs": [],
   "source": [
    "def get_proper_images(raw):\n",
    "    raw_float = np.array(raw, dtype=float) \n",
    "    images = raw_float.reshape([-1, 3, 32, 32])\n",
    "    images = images.transpose([0, 2, 3, 1])\n",
    "    return images\n",
    "\n",
    "def onehot_labels(labels):\n",
    "    return np.eye(100)[labels]\n",
    "\n",
    "def unpickle(file):\n",
    "    fo = open(file, 'rb')\n",
    "    dict = pickle.load(fo, encoding = 'latin1')\n",
    "    fo.close()\n",
    "    return dict"
   ]
  },
  {
   "cell_type": "code",
   "execution_count": 8,
   "metadata": {},
   "outputs": [
    {
     "name": "stdout",
     "output_type": "stream",
     "text": [
      "utf-8\n"
     ]
    }
   ],
   "source": [
    "import sys\n",
    "X = get_proper_images(unpickle('cifar-100-python/train')['data'])"
   ]
  },
  {
   "cell_type": "code",
   "execution_count": 9,
   "metadata": {
    "collapsed": true
   },
   "outputs": [],
   "source": [
    "Y = onehot_labels(unpickle('cifar-100-python/train')['fine_labels'])\n",
    "X_test = get_proper_images(unpickle('cifar-100-python/test')['data'])\n",
    "Y_test = onehot_labels(unpickle('cifar-100-python/test')['fine_labels'])"
   ]
  },
  {
   "cell_type": "code",
   "execution_count": 10,
   "metadata": {
    "collapsed": true
   },
   "outputs": [],
   "source": [
    "img_prep = ImagePreprocessing()\n",
    "img_prep.add_featurewise_zero_center()\n",
    "img_prep.add_featurewise_stdnorm()"
   ]
  },
  {
   "cell_type": "code",
   "execution_count": 11,
   "metadata": {
    "collapsed": true
   },
   "outputs": [],
   "source": [
    "# Real-time data augmentation\n",
    "img_aug = ImageAugmentation()\n",
    "img_aug.add_random_flip_leftright()\n",
    "img_aug.add_random_rotation(max_angle=15.)\n",
    "#img_aug.add_random_crop((28, 28))\n",
    "#img_aug.add_random_blur(sigma_max=5.0)"
   ]
  },
  {
   "cell_type": "markdown",
   "metadata": {},
   "source": [
    "Arguments\n",
    "incoming: Tensor. Incoming 4-D Tensor.\n",
    "nb_filter: int. The number of convolutional filters.\n",
    "filter_size: int or list of int. Size of filters.\n",
    "strides: 'intor list ofint`. Strides of conv operation. Default: [1 1 1 1].\n",
    "padding: str from \"same\", \"valid\". Padding algo to use. Default: 'same'.\n",
    "activation: str (name) or function (returning a Tensor) or None. Activation applied to this layer (see tflearn.activations). Default: 'linear'.\n",
    "bias: bool. If True, a bias is used.\n",
    "weights_init: str (name) or Tensor. Weights initialization. (see tflearn.initializations) Default: 'truncated_normal'.\n",
    "bias_init: str (name) or Tensor. Bias initialization. (see tflearn.initializations) Default: 'zeros'.\n",
    "regularizer: str (name) or Tensor. Add a regularizer to this layer weights (see tflearn.regularizers). Default: None.\n",
    "weight_decay: float. Regularizer decay parameter. Default: 0.001.\n",
    "trainable: bool. If True, weights will be trainable.\n",
    "restore: bool. If True, this layer weights will be restored when loading a model.\n",
    "reuse: bool. If True and 'scope' is provided, this layer variables will be reused (shared).\n",
    "scope: str. Define this layer scope (optional). A scope can be used to share variables between layers. Note that scope will override name.\n",
    "name: A name for this layer (optional). Default: 'Conv2D'."
   ]
  },
  {
   "cell_type": "code",
   "execution_count": 12,
   "metadata": {},
   "outputs": [
    {
     "name": "stdout",
     "output_type": "stream",
     "text": [
      "WARNING:tensorflow:From /Users/muratyalcin/anaconda3/lib/python3.6/site-packages/tflearn/initializations.py:119: UniformUnitScaling.__init__ (from tensorflow.python.ops.init_ops) is deprecated and will be removed in a future version.\n",
      "Instructions for updating:\n",
      "Use tf.initializers.variance_scaling instead with distribution=uniform to get equivalent behavior.\n",
      "WARNING:tensorflow:From /Users/muratyalcin/anaconda3/lib/python3.6/site-packages/tflearn/objectives.py:66: calling reduce_sum (from tensorflow.python.ops.math_ops) with keep_dims is deprecated and will be removed in a future version.\n",
      "Instructions for updating:\n",
      "keep_dims is deprecated, use keepdims instead\n"
     ]
    }
   ],
   "source": [
    "# Convolutional network building\n",
    "network = input_data(shape=[None, 32, 32, 3])\n",
    "network = conv_2d(network, 32, 3, strides=1, padding='same', activation='relu', bias=True, \n",
    "                  bias_init='zeros', weights_init='uniform_scaling')\n",
    "network = max_pool_2d(network, 2 , strides=None, padding='same')\n",
    "network = conv_2d(network, 64, 3, strides=1, padding='same', activation='relu', bias=True, \n",
    "                  bias_init='zeros', weights_init='uniform_scaling')\n",
    "network = conv_2d(network, 64, 3 , strides=1, padding='same', activation='relu', bias=True, \n",
    "                  bias_init='zeros', weights_init='uniform_scaling')\n",
    "network = max_pool_2d(network, 2 , strides=None, padding='same')\n",
    "network = fully_connected(network, 600, activation='relu')\n",
    "network = dropout(network, 0.5)\n",
    "network = fully_connected(network, 100, activation='softmax')\n",
    "network = regression(network, optimizer='adam',\n",
    "                     loss='categorical_crossentropy',\n",
    "                     learning_rate=0.001)"
   ]
  },
  {
   "cell_type": "code",
   "execution_count": 13,
   "metadata": {},
   "outputs": [
    {
     "name": "stdout",
     "output_type": "stream",
     "text": [
      "Training Step: 24999  | total loss: \u001b[1m\u001b[32m22.81755\u001b[0m\u001b[0m | time: 233.807s\n",
      "| Adam | epoch: 050 | loss: 22.81755 - acc: 0.0090 -- iter: 49900/50000\n",
      "Training Step: 25000  | total loss: \u001b[1m\u001b[32m22.79233\u001b[0m\u001b[0m | time: 248.622s\n",
      "| Adam | epoch: 050 | loss: 22.79233 - acc: 0.0101 | val_loss: 22.79559 - val_acc: 0.0100 -- iter: 50000/50000\n",
      "--\n"
     ]
    }
   ],
   "source": [
    "# Train using classifier\n",
    "model = tflearn.DNN(network, tensorboard_verbose=0)\n",
    "model.fit(X, Y, n_epoch=50, shuffle=True, validation_set=(X_test, Y_test),\n",
    "          show_metric=True, batch_size=100 , run_id=\"withoutaugpre\")"
   ]
  },
  {
   "cell_type": "code",
   "execution_count": null,
   "metadata": {
    "collapsed": true
   },
   "outputs": [],
   "source": []
  }
 ],
 "metadata": {
  "kernelspec": {
   "display_name": "Python 3",
   "language": "python",
   "name": "python3"
  },
  "language_info": {
   "codemirror_mode": {
    "name": "ipython",
    "version": 3
   },
   "file_extension": ".py",
   "mimetype": "text/x-python",
   "name": "python",
   "nbconvert_exporter": "python",
   "pygments_lexer": "ipython3",
   "version": "3.6.3"
  }
 },
 "nbformat": 4,
 "nbformat_minor": 1
}
